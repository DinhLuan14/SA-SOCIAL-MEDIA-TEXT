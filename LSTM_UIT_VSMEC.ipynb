{
  "nbformat": 4,
  "nbformat_minor": 0,
  "metadata": {
    "colab": {
      "name": "LSTM_UIT_VSMEC.ipynb",
      "provenance": [],
      "collapsed_sections": [],
      "authorship_tag": "ABX9TyO0dQKYsbvR70qxWgDCd5CN",
      "include_colab_link": true
    },
    "kernelspec": {
      "name": "python3",
      "display_name": "Python 3"
    },
    "language_info": {
      "name": "python"
    }
  },
  "cells": [
    {
      "cell_type": "markdown",
      "metadata": {
        "id": "view-in-github",
        "colab_type": "text"
      },
      "source": [
        "<a href=\"https://colab.research.google.com/github/dinhluan14/Classification-of-social-media-text-in-Vietnamese/blob/main/LSTM_UIT_VSMEC.ipynb\" target=\"_parent\"><img src=\"https://colab.research.google.com/assets/colab-badge.svg\" alt=\"Open In Colab\"/></a>"
      ]
    },
    {
      "cell_type": "code",
      "metadata": {
        "id": "kSceVntNxXru"
      },
      "source": [
        "https://drive.google.com/file/d/1ch_F1fRqgBuT5bLLk6CbJoHO1TpvEEnQ/view?usp=sharing"
      ],
      "execution_count": null,
      "outputs": []
    },
    {
      "cell_type": "code",
      "metadata": {
        "id": "KgpQEu_cxwNe"
      },
      "source": [
        "https://drive.google.com/file/d/1svJAKgX2W6CzLk5wWt4A5oKnn25yNha9/view?usp=sharing\n",
        "https://drive.google.com/file/d/1IqxO0hhfVyNbDWkbbwyuz9NGM6G_md_R/view?usp=sharing"
      ],
      "execution_count": null,
      "outputs": []
    },
    {
      "cell_type": "code",
      "metadata": {
        "id": "yeENLcj3xxwK"
      },
      "source": [
        "https://drive.google.com/file/d/1IqxO0hhfVyNbDWkbbwyuz9NGM6G_md_R/view?usp=sharing\n",
        "https://drive.google.com/file/d/1svJAKgX2W6CzLk5wWt4A5oKnn25yNha9/view?usp=sharing\n",
        "https://drive.google.com/file/d/1ch_F1fRqgBuT5bLLk6CbJoHO1TpvEEnQ/view?usp=sharing"
      ],
      "execution_count": null,
      "outputs": []
    },
    {
      "cell_type": "markdown",
      "metadata": {
        "id": "qE6VOlG5x8hC"
      },
      "source": [
        "#Load DataSet\n"
      ]
    },
    {
      "cell_type": "code",
      "metadata": {
        "colab": {
          "base_uri": "https://localhost:8080/"
        },
        "id": "vyv12Ybux_fR",
        "outputId": "62f41534-ad07-42de-c11e-7ac2322474a1"
      },
      "source": [
        "!gdown --id 1ch_F1fRqgBuT5bLLk6CbJoHO1TpvEEnQ\n",
        "!gdown --id 1svJAKgX2W6CzLk5wWt4A5oKnn25yNha9\n",
        "!gdown --id 1IqxO0hhfVyNbDWkbbwyuz9NGM6G_md_R"
      ],
      "execution_count": null,
      "outputs": [
        {
          "output_type": "stream",
          "text": [
            "Downloading...\n",
            "From: https://drive.google.com/uc?id=1ch_F1fRqgBuT5bLLk6CbJoHO1TpvEEnQ\n",
            "To: /content/valid_nor_811.xlsx\n",
            "\r  0% 0.00/38.0k [00:00<?, ?B/s]\r100% 38.0k/38.0k [00:00<00:00, 14.1MB/s]\n"
          ],
          "name": "stdout"
        }
      ]
    },
    {
      "cell_type": "code",
      "metadata": {
        "id": "d1XtiI1vy5UM"
      },
      "source": [
        "xinchaoao"
      ],
      "execution_count": null,
      "outputs": []
    }
  ]
}