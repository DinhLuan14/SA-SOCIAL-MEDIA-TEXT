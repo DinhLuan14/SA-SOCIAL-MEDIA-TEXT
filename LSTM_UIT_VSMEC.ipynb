{
  "nbformat": 4,
  "nbformat_minor": 0,
  "metadata": {
    "colab": {
      "name": "LSTM_UIT_VSMEC.ipynb",
      "provenance": [],
      "collapsed_sections": [],
      "authorship_tag": "ABX9TyPtAWSwpfhuf81xwI2ZXsh/",
      "include_colab_link": true
    },
    "kernelspec": {
      "name": "python3",
      "display_name": "Python 3"
    },
    "language_info": {
      "name": "python"
    }
  },
  "cells": [
    {
      "cell_type": "markdown",
      "metadata": {
        "id": "view-in-github",
        "colab_type": "text"
      },
      "source": [
        "<a href=\"https://colab.research.google.com/github/dinhluan14/Classification-of-social-media-text-in-Vietnamese/blob/main/LSTM_UIT_VSMEC.ipynb\" target=\"_parent\"><img src=\"https://colab.research.google.com/assets/colab-badge.svg\" alt=\"Open In Colab\"/></a>"
      ]
    },
    {
      "cell_type": "markdown",
      "metadata": {
        "id": "g8kv09LKhSD_"
      },
      "source": [
        "#**Dowload dataset**"
      ]
    },
    {
      "cell_type": "code",
      "metadata": {
        "colab": {
          "base_uri": "https://localhost:8080/"
        },
        "id": "vyv12Ybux_fR",
        "outputId": "325bdf28-ec59-4b15-cbf3-a259e52f5451"
      },
      "source": [
        "# valid\n",
        "!gdown --id 1ch_F1fRqgBuT5bLLk6CbJoHO1TpvEEnQ \n",
        "# train\n",
        "!gdown --id 1svJAKgX2W6CzLk5wWt4A5oKnn25yNha9\n",
        "# test\n",
        "!gdown --id 1IqxO0hhfVyNbDWkbbwyuz9NGM6G_md_R"
      ],
      "execution_count": null,
      "outputs": [
        {
          "output_type": "stream",
          "text": [
            "Downloading...\n",
            "From: https://drive.google.com/uc?id=1ch_F1fRqgBuT5bLLk6CbJoHO1TpvEEnQ\n",
            "To: /content/valid_nor_811.xlsx\n",
            "100% 38.0k/38.0k [00:00<00:00, 4.85MB/s]\n",
            "Downloading...\n",
            "From: https://drive.google.com/uc?id=1svJAKgX2W6CzLk5wWt4A5oKnn25yNha9\n",
            "To: /content/train_nor_811.xlsx\n",
            "100% 259k/259k [00:00<00:00, 38.2MB/s]\n",
            "Downloading...\n",
            "From: https://drive.google.com/uc?id=1IqxO0hhfVyNbDWkbbwyuz9NGM6G_md_R\n",
            "To: /content/test_nor_811.xlsx\n",
            "100% 37.6k/37.6k [00:00<00:00, 32.8MB/s]\n"
          ],
          "name": "stdout"
        }
      ]
    },
    {
      "cell_type": "code",
      "metadata": {
        "colab": {
          "base_uri": "https://localhost:8080/"
        },
        "id": "gcw0PH6JeTSg",
        "outputId": "e6d349af-ba96-4ed3-fe3a-620b442ed353"
      },
      "source": [
        "# Import\n",
        "import os\n",
        "import numpy as np\n",
        "import pandas as pd\n",
        "import matplotlib.pyplot as plt\n",
        "import seaborn as sns\n",
        "\n",
        "from pandas.plotting import scatter_matrix\n",
        "from sklearn.preprocessing import LabelEncoder, StandardScaler\n",
        "from sklearn.linear_model import LinearRegression, Lasso\n",
        "from sklearn.model_selection import  train_test_split\n",
        "from sklearn.metrics import mean_squared_log_error\n",
        "from tqdm import tqdm\n",
        "tqdm.pandas(desc=\"progress-bar\")\n",
        "\n",
        "import keras\n",
        "import gensim\n",
        "from gensim.models.word2vec import Word2Vec\n",
        "from gensim.models.doc2vec import TaggedDocument\n",
        "import multiprocessing\n",
        "from sklearn import utils\n",
        "from gensim.models import KeyedVectors\n",
        "from keras.preprocessing.text import Tokenizer\n",
        "from keras.preprocessing.sequence import pad_sequences\n",
        "# Input data files are available in the \"../input/\" directory.\n",
        "# For example, running this (by clicking run or pressing Shift+Enter) will list the files in the input directory\n",
        "plt.style.use('fivethirtyeight')\n",
        "\n",
        "%matplotlib inline\n",
        "%config InlineBackend.figure_format = 'retina'"
      ],
      "execution_count": null,
      "outputs": [
        {
          "output_type": "stream",
          "text": [
            "/usr/local/lib/python3.7/dist-packages/tqdm/std.py:658: FutureWarning: The Panel class is removed from pandas. Accessing it from the top-level namespace will also be removed in the next version\n",
            "  from pandas import Panel\n"
          ],
          "name": "stderr"
        }
      ]
    },
    {
      "cell_type": "markdown",
      "metadata": {
        "id": "qE6VOlG5x8hC"
      },
      "source": [
        "#Load Dataset\n"
      ]
    },
    {
      "cell_type": "markdown",
      "metadata": {
        "id": "OSVBV_LhdqwX"
      },
      "source": [
        "## Train set"
      ]
    },
    {
      "cell_type": "code",
      "metadata": {
        "colab": {
          "base_uri": "https://localhost:8080/",
          "height": 422
        },
        "id": "hwMIy09Ld8jp",
        "outputId": "6faddc63-5584-4e96-d09e-9084a57f2aaa"
      },
      "source": [
        "df_train = pd.read_excel(\"/content/train_nor_811.xlsx\",index_col = None,usecols = \"B,C:AA\").reindex(columns=[\"Sentence\",\"Emotion\"])\n",
        "df_train"
      ],
      "execution_count": null,
      "outputs": [
        {
          "output_type": "execute_result",
          "data": {
            "text/html": [
              "<div>\n",
              "<style scoped>\n",
              "    .dataframe tbody tr th:only-of-type {\n",
              "        vertical-align: middle;\n",
              "    }\n",
              "\n",
              "    .dataframe tbody tr th {\n",
              "        vertical-align: top;\n",
              "    }\n",
              "\n",
              "    .dataframe thead th {\n",
              "        text-align: right;\n",
              "    }\n",
              "</style>\n",
              "<table border=\"1\" class=\"dataframe\">\n",
              "  <thead>\n",
              "    <tr style=\"text-align: right;\">\n",
              "      <th></th>\n",
              "      <th>Sentence</th>\n",
              "      <th>Emotion</th>\n",
              "    </tr>\n",
              "  </thead>\n",
              "  <tbody>\n",
              "    <tr>\n",
              "      <th>0</th>\n",
              "      <td>cho mình xin bài nhạc tên là gì với ạ</td>\n",
              "      <td>Other</td>\n",
              "    </tr>\n",
              "    <tr>\n",
              "      <th>1</th>\n",
              "      <td>cho đáng đời con quỷ . về nhà lôi con nhà mày ...</td>\n",
              "      <td>Disgust</td>\n",
              "    </tr>\n",
              "    <tr>\n",
              "      <th>2</th>\n",
              "      <td>lo học đi . yêu đương lol gì hay lại thích học...</td>\n",
              "      <td>Disgust</td>\n",
              "    </tr>\n",
              "    <tr>\n",
              "      <th>3</th>\n",
              "      <td>uớc gì sau này về già vẫn có thể như cụ này :))</td>\n",
              "      <td>Enjoyment</td>\n",
              "    </tr>\n",
              "    <tr>\n",
              "      <th>4</th>\n",
              "      <td>mỗi lần có video của con là cứ coi đi coi lại ...</td>\n",
              "      <td>Enjoyment</td>\n",
              "    </tr>\n",
              "    <tr>\n",
              "      <th>...</th>\n",
              "      <td>...</td>\n",
              "      <td>...</td>\n",
              "    </tr>\n",
              "    <tr>\n",
              "      <th>5543</th>\n",
              "      <td>đường của nhà cụ hay sao mà cụ cấm người ta đỗ...</td>\n",
              "      <td>Disgust</td>\n",
              "    </tr>\n",
              "    <tr>\n",
              "      <th>5544</th>\n",
              "      <td>nhìn mặt héo queo luôn</td>\n",
              "      <td>Other</td>\n",
              "    </tr>\n",
              "    <tr>\n",
              "      <th>5545</th>\n",
              "      <td>tao đi xe máy mỗi lần muốn để xe đi đâu là phi...</td>\n",
              "      <td>Other</td>\n",
              "    </tr>\n",
              "    <tr>\n",
              "      <th>5546</th>\n",
              "      <td>thích thân hình boss rồi nhan 😌</td>\n",
              "      <td>Enjoyment</td>\n",
              "    </tr>\n",
              "    <tr>\n",
              "      <th>5547</th>\n",
              "      <td>ước mơ nhỏ nhoi của tao là được làm chị mà khô...</td>\n",
              "      <td>Sadness</td>\n",
              "    </tr>\n",
              "  </tbody>\n",
              "</table>\n",
              "<p>5548 rows × 2 columns</p>\n",
              "</div>"
            ],
            "text/plain": [
              "                                               Sentence    Emotion\n",
              "0                 cho mình xin bài nhạc tên là gì với ạ      Other\n",
              "1     cho đáng đời con quỷ . về nhà lôi con nhà mày ...    Disgust\n",
              "2     lo học đi . yêu đương lol gì hay lại thích học...    Disgust\n",
              "3       uớc gì sau này về già vẫn có thể như cụ này :))  Enjoyment\n",
              "4     mỗi lần có video của con là cứ coi đi coi lại ...  Enjoyment\n",
              "...                                                 ...        ...\n",
              "5543  đường của nhà cụ hay sao mà cụ cấm người ta đỗ...    Disgust\n",
              "5544                             nhìn mặt héo queo luôn      Other\n",
              "5545  tao đi xe máy mỗi lần muốn để xe đi đâu là phi...      Other\n",
              "5546                    thích thân hình boss rồi nhan 😌  Enjoyment\n",
              "5547  ước mơ nhỏ nhoi của tao là được làm chị mà khô...    Sadness\n",
              "\n",
              "[5548 rows x 2 columns]"
            ]
          },
          "metadata": {
            "tags": []
          },
          "execution_count": 67
        }
      ]
    },
    {
      "cell_type": "markdown",
      "metadata": {
        "id": "QV6b0b5LdyRm"
      },
      "source": [
        "## Test set\n"
      ]
    },
    {
      "cell_type": "code",
      "metadata": {
        "colab": {
          "base_uri": "https://localhost:8080/",
          "height": 422
        },
        "id": "34eFsdE2d9YZ",
        "outputId": "3b2575f9-dec6-4970-cd50-acfc1e65d5c5"
      },
      "source": [
        "df_test = pd.read_excel(\"/content/test_nor_811.xlsx\",index_col = None,usecols = \"B,C:AA\").reindex(columns=[\"Sentence\",\"Emotion\"])\n",
        "df_test"
      ],
      "execution_count": null,
      "outputs": [
        {
          "output_type": "execute_result",
          "data": {
            "text/html": [
              "<div>\n",
              "<style scoped>\n",
              "    .dataframe tbody tr th:only-of-type {\n",
              "        vertical-align: middle;\n",
              "    }\n",
              "\n",
              "    .dataframe tbody tr th {\n",
              "        vertical-align: top;\n",
              "    }\n",
              "\n",
              "    .dataframe thead th {\n",
              "        text-align: right;\n",
              "    }\n",
              "</style>\n",
              "<table border=\"1\" class=\"dataframe\">\n",
              "  <thead>\n",
              "    <tr style=\"text-align: right;\">\n",
              "      <th></th>\n",
              "      <th>Sentence</th>\n",
              "      <th>Emotion</th>\n",
              "    </tr>\n",
              "  </thead>\n",
              "  <tbody>\n",
              "    <tr>\n",
              "      <th>0</th>\n",
              "      <td>người ta có bạn bè nhìn vui thật</td>\n",
              "      <td>Sadness</td>\n",
              "    </tr>\n",
              "    <tr>\n",
              "      <th>1</th>\n",
              "      <td>cho nghỉ viêc mói đúng sao goi là kỷ luật</td>\n",
              "      <td>Surprise</td>\n",
              "    </tr>\n",
              "    <tr>\n",
              "      <th>2</th>\n",
              "      <td>kinh vãi 😡</td>\n",
              "      <td>Disgust</td>\n",
              "    </tr>\n",
              "    <tr>\n",
              "      <th>3</th>\n",
              "      <td>nhà thì không xa lắm nhưng chưa bao giờ đi vì ...</td>\n",
              "      <td>Fear</td>\n",
              "    </tr>\n",
              "    <tr>\n",
              "      <th>4</th>\n",
              "      <td>bố không thích nộp đấy mày thích ý kiến không</td>\n",
              "      <td>Anger</td>\n",
              "    </tr>\n",
              "    <tr>\n",
              "      <th>...</th>\n",
              "      <td>...</td>\n",
              "      <td>...</td>\n",
              "    </tr>\n",
              "    <tr>\n",
              "      <th>688</th>\n",
              "      <td>lúc thì cuốc đất è cổ ra không có giun mà câu ...</td>\n",
              "      <td>Sadness</td>\n",
              "    </tr>\n",
              "    <tr>\n",
              "      <th>689</th>\n",
              "      <td>các bác dẫn crush qua cây sữa nay mà hứng nước...</td>\n",
              "      <td>Enjoyment</td>\n",
              "    </tr>\n",
              "    <tr>\n",
              "      <th>690</th>\n",
              "      <td>vợ chồng rồi mà trong sáng như này chỉ có tron...</td>\n",
              "      <td>Surprise</td>\n",
              "    </tr>\n",
              "    <tr>\n",
              "      <th>691</th>\n",
              "      <td>bep này vào binh dương dùng xuất</td>\n",
              "      <td>Other</td>\n",
              "    </tr>\n",
              "    <tr>\n",
              "      <th>692</th>\n",
              "      <td>đôi mắt đằm thắm vãi</td>\n",
              "      <td>Surprise</td>\n",
              "    </tr>\n",
              "  </tbody>\n",
              "</table>\n",
              "<p>693 rows × 2 columns</p>\n",
              "</div>"
            ],
            "text/plain": [
              "                                              Sentence    Emotion\n",
              "0                     người ta có bạn bè nhìn vui thật    Sadness\n",
              "1            cho nghỉ viêc mói đúng sao goi là kỷ luật   Surprise\n",
              "2                                           kinh vãi 😡    Disgust\n",
              "3    nhà thì không xa lắm nhưng chưa bao giờ đi vì ...       Fear\n",
              "4        bố không thích nộp đấy mày thích ý kiến không      Anger\n",
              "..                                                 ...        ...\n",
              "688  lúc thì cuốc đất è cổ ra không có giun mà câu ...    Sadness\n",
              "689  các bác dẫn crush qua cây sữa nay mà hứng nước...  Enjoyment\n",
              "690  vợ chồng rồi mà trong sáng như này chỉ có tron...   Surprise\n",
              "691                   bep này vào binh dương dùng xuất      Other\n",
              "692                               đôi mắt đằm thắm vãi   Surprise\n",
              "\n",
              "[693 rows x 2 columns]"
            ]
          },
          "metadata": {
            "tags": []
          },
          "execution_count": 68
        }
      ]
    },
    {
      "cell_type": "markdown",
      "metadata": {
        "id": "NC0bhf7cd19P"
      },
      "source": [
        "##Valid set"
      ]
    },
    {
      "cell_type": "code",
      "metadata": {
        "colab": {
          "base_uri": "https://localhost:8080/",
          "height": 422
        },
        "id": "lhGRA49pd4kL",
        "outputId": "36f53188-c8a9-465e-88a4-27c4b7be99d1"
      },
      "source": [
        "df_valid = pd.read_excel(\"/content/valid_nor_811.xlsx\",index_col = None,usecols = \"B,C:AA\").reindex(columns=[\"Sentence\",\"Emotion\"])\n",
        "df_valid"
      ],
      "execution_count": null,
      "outputs": [
        {
          "output_type": "execute_result",
          "data": {
            "text/html": [
              "<div>\n",
              "<style scoped>\n",
              "    .dataframe tbody tr th:only-of-type {\n",
              "        vertical-align: middle;\n",
              "    }\n",
              "\n",
              "    .dataframe tbody tr th {\n",
              "        vertical-align: top;\n",
              "    }\n",
              "\n",
              "    .dataframe thead th {\n",
              "        text-align: right;\n",
              "    }\n",
              "</style>\n",
              "<table border=\"1\" class=\"dataframe\">\n",
              "  <thead>\n",
              "    <tr style=\"text-align: right;\">\n",
              "      <th></th>\n",
              "      <th>Sentence</th>\n",
              "      <th>Emotion</th>\n",
              "    </tr>\n",
              "  </thead>\n",
              "  <tbody>\n",
              "    <tr>\n",
              "      <th>0</th>\n",
              "      <td>tính tao tao biết , chẳng có chuyện gì có thể ...</td>\n",
              "      <td>Other</td>\n",
              "    </tr>\n",
              "    <tr>\n",
              "      <th>1</th>\n",
              "      <td>lại là lào cai , tự hào quê mình quá :))</td>\n",
              "      <td>Enjoyment</td>\n",
              "    </tr>\n",
              "    <tr>\n",
              "      <th>2</th>\n",
              "      <td>bị từ chối rồi</td>\n",
              "      <td>Sadness</td>\n",
              "    </tr>\n",
              "    <tr>\n",
              "      <th>3</th>\n",
              "      <td>tam đảo trời đẹp các mem à</td>\n",
              "      <td>Enjoyment</td>\n",
              "    </tr>\n",
              "    <tr>\n",
              "      <th>4</th>\n",
              "      <td>đọc bình luận của thằng đó không thiếu chữ nào 😂😂</td>\n",
              "      <td>Other</td>\n",
              "    </tr>\n",
              "    <tr>\n",
              "      <th>...</th>\n",
              "      <td>...</td>\n",
              "      <td>...</td>\n",
              "    </tr>\n",
              "    <tr>\n",
              "      <th>681</th>\n",
              "      <td>nhọc lòng :(((</td>\n",
              "      <td>Sadness</td>\n",
              "    </tr>\n",
              "    <tr>\n",
              "      <th>682</th>\n",
              "      <td>tao đã rất muốn làm bạn tốt anh em tri kỉ với ...</td>\n",
              "      <td>Sadness</td>\n",
              "    </tr>\n",
              "    <tr>\n",
              "      <th>683</th>\n",
              "      <td>cơm tấm ở ngoài cũng như này . 😡</td>\n",
              "      <td>Disgust</td>\n",
              "    </tr>\n",
              "    <tr>\n",
              "      <th>684</th>\n",
              "      <td>chất liệu đỉnh quá</td>\n",
              "      <td>Surprise</td>\n",
              "    </tr>\n",
              "    <tr>\n",
              "      <th>685</th>\n",
              "      <td>dume lũ mất dạy . bố mẹ cho mày ăn học để dơ n...</td>\n",
              "      <td>Anger</td>\n",
              "    </tr>\n",
              "  </tbody>\n",
              "</table>\n",
              "<p>686 rows × 2 columns</p>\n",
              "</div>"
            ],
            "text/plain": [
              "                                              Sentence    Emotion\n",
              "0    tính tao tao biết , chẳng có chuyện gì có thể ...      Other\n",
              "1             lại là lào cai , tự hào quê mình quá :))  Enjoyment\n",
              "2                                       bị từ chối rồi    Sadness\n",
              "3                           tam đảo trời đẹp các mem à  Enjoyment\n",
              "4    đọc bình luận của thằng đó không thiếu chữ nào 😂😂      Other\n",
              "..                                                 ...        ...\n",
              "681                                     nhọc lòng :(((    Sadness\n",
              "682  tao đã rất muốn làm bạn tốt anh em tri kỉ với ...    Sadness\n",
              "683                   cơm tấm ở ngoài cũng như này . 😡    Disgust\n",
              "684                                 chất liệu đỉnh quá   Surprise\n",
              "685  dume lũ mất dạy . bố mẹ cho mày ăn học để dơ n...      Anger\n",
              "\n",
              "[686 rows x 2 columns]"
            ]
          },
          "metadata": {
            "tags": []
          },
          "execution_count": 69
        }
      ]
    },
    {
      "cell_type": "markdown",
      "metadata": {
        "id": "5pBgF2jVhEOT"
      },
      "source": [
        "# DATA PREPARATION"
      ]
    },
    {
      "cell_type": "code",
      "metadata": {
        "id": "dxuoHorimFOv"
      },
      "source": [
        "import re\n",
        "df_train = df_train.reset_index(drop=True)\n",
        "REPLACE_BY_SPACE_RE = re.compile('[/(){}\\[\\]\\|@,;]')\n",
        "# BAD_SYMBOLS_RE = re.compile('[^0-9a-z #+_]')\n",
        "# STOPWORDS = set(stopwords.words('english'))\n",
        "\n",
        "def clean_text(text):\n",
        "    \"\"\"\n",
        "        text: a string\n",
        "        return: modified initial string\n",
        "    \"\"\"\n",
        "    text = text.lower() # lowercase text\n",
        "    text = REPLACE_BY_SPACE_RE.sub(' ', text) # replace REPLACE_BY_SPACE_RE symbols by space in text. substitute the matched string in REPLACE_BY_SPACE_RE with space.\n",
        "    # text = BAD_SYMBOLS_RE.sub('', text) # remove symbols which are in BAD_SYMBOLS_RE from text. substitute the matched string in BAD_SYMBOLS_RE with nothing. \n",
        "    text = text.replace('.', '')\n",
        "#    text = re.sub(r'\\W+', '', text)\n",
        "    # text = ' '.join(word for word in text.split() if word not in STOPWORDS) # remove stopwors from text\n",
        "    return text\n",
        "# df['Consumer complaint narrative'] = df['Consumer complaint narrative'].apply(clean_text)\n",
        "df_train[\"Sentence\"] = df_train[\"Sentence\"].apply(clean_text)\n",
        "df_test[\"Sentence\"] = df_test[\"Sentence\"].apply(clean_text)\n",
        "df_valid[\"Sentence\"] = df_valid[\"Sentence\"].apply(clean_text)"
      ],
      "execution_count": null,
      "outputs": []
    },
    {
      "cell_type": "code",
      "metadata": {
        "colab": {
          "base_uri": "https://localhost:8080/"
        },
        "id": "IjBQoNOl0LvP",
        "outputId": "e6c608a4-776f-4019-f6c6-b069b5a73c0b"
      },
      "source": [
        "df_train[\"Emotion\"].value_counts()"
      ],
      "execution_count": null,
      "outputs": [
        {
          "output_type": "execute_result",
          "data": {
            "text/plain": [
              "Enjoyment    1558\n",
              "Disgust      1071\n",
              "Other        1021\n",
              "Sadness       947\n",
              "Anger         391\n",
              "Fear          318\n",
              "Surprise      242\n",
              "Name: Emotion, dtype: int64"
            ]
          },
          "metadata": {
            "tags": []
          },
          "execution_count": 72
        }
      ]
    },
    {
      "cell_type": "markdown",
      "metadata": {
        "id": "FOYX2Uo51Tbf"
      },
      "source": [
        "#Pre-training"
      ]
    },
    {
      "cell_type": "code",
      "metadata": {
        "colab": {
          "base_uri": "https://localhost:8080/"
        },
        "id": "pmSovYCy1Sbq",
        "outputId": "8e695a9c-8bff-4cf1-9f82-161872190123"
      },
      "source": [
        "Emotion_train = pd.get_dummies(df_train['Emotion']).values\n",
        "print('Shape of label train tensor:', Emotion_train.shape)\n",
        "Emotion_valid = pd.get_dummies(df_valid['Emotion']).values\n",
        "print('Shape of label dev tensor:', Emotion_valid.shape)\n",
        "Emotion_test = pd.get_dummies(df_test['Emotion']).values\n",
        "print('Shape of label test tensor:', Emotion_test.shape)"
      ],
      "execution_count": null,
      "outputs": [
        {
          "output_type": "stream",
          "text": [
            "Shape of label train tensor: (5548, 7)\n",
            "Shape of label dev tensor: (686, 7)\n",
            "Shape of label test tensor: (693, 7)\n"
          ],
          "name": "stdout"
        }
      ]
    },
    {
      "cell_type": "code",
      "metadata": {
        "colab": {
          "base_uri": "https://localhost:8080/"
        },
        "id": "MBChrW7N2EMj",
        "outputId": "9c8b6bea-5cbb-426d-9e92-b03f48795746"
      },
      "source": [
        "Sentence_test = df_test['Sentence']\n",
        "Sentence_test = np.array(Sentence_test)\n",
        "# Sentence_test\n",
        "Sentence_valid = df_valid['Sentence']\n",
        "Sentence_valid = np.array(Sentence_valid)\n",
        "# Sentence_valid.shape\n",
        "Sentence_train = df_train['Sentence']\n",
        "Sentence_train = np.array(Sentence_train)\n",
        "Sentence_train"
      ],
      "execution_count": null,
      "outputs": [
        {
          "output_type": "execute_result",
          "data": {
            "text/plain": [
              "array(['cho mình xin bài nhạc tên là gì với ạ',\n",
              "       'cho đáng đời con quỷ  về nhà lôi con nhà mày ra mà đánh 😡',\n",
              "       'lo học đi  yêu đương lol gì hay lại thích học sinh học', ...,\n",
              "       'tao đi xe máy mỗi lần muốn để xe đi đâu là phi mẹ nó vào quán net gửi đấy rồi đi ra đéo mất phí',\n",
              "       'thích thân hình boss rồi nhan 😌',\n",
              "       'ước mơ nhỏ nhoi của tao là được làm chị mà không thể nào làm được huhu'],\n",
              "      dtype=object)"
            ]
          },
          "metadata": {
            "tags": []
          },
          "execution_count": 77
        }
      ]
    },
    {
      "cell_type": "code",
      "metadata": {
        "id": "ULo4iNny2one"
      },
      "source": [
        "vocab_size = 10000\n",
        "embedding_dim = 64 # chieu cua embedding\n",
        "max_length = 100"
      ],
      "execution_count": null,
      "outputs": []
    },
    {
      "cell_type": "code",
      "metadata": {
        "colab": {
          "base_uri": "https://localhost:8080/"
        },
        "id": "XJqgZXUo2qjC",
        "outputId": "afcdae68-1608-450e-e2b5-a5540a2554f2"
      },
      "source": [
        "from tensorflow.keras.preprocessing.text import Tokenizer  # thư viện tách từ\n",
        "from tensorflow.keras.preprocessing.sequence import pad_sequences # \n",
        "# tokenize các câu văn sang chuỗi index và padding câu văn về cũng một độ dài.\n",
        "tokenizer = Tokenizer(num_words=vocab_size, oov_token='<OOV>')\n",
        "tokenizer.fit_on_texts(Sentence_train)\n",
        "\n",
        "Sentence_train_sequences = tokenizer.texts_to_sequences(Sentence_train)\n",
        "padded_Sentence_train_sequences = pad_sequences(Sentence_train_sequences, maxlen=max_length, truncating='post', padding='post')\n",
        "padded_Sentence_train_sequences.shape"
      ],
      "execution_count": null,
      "outputs": [
        {
          "output_type": "execute_result",
          "data": {
            "text/plain": [
              "(5548, 100)"
            ]
          },
          "metadata": {
            "tags": []
          },
          "execution_count": 79
        }
      ]
    },
    {
      "cell_type": "code",
      "metadata": {
        "colab": {
          "base_uri": "https://localhost:8080/"
        },
        "id": "mVVGoAmE3Dm5",
        "outputId": "e6a619b4-ea6b-4ff1-d52e-7416fc29e2d5"
      },
      "source": [
        "Sentence_valid_sequences = tokenizer.texts_to_sequences(Sentence_valid)\n",
        "padded_Sentence_valid_sequences = pad_sequences(Sentence_valid_sequences, maxlen=max_length, truncating='post', padding='post')\n",
        "padded_Sentence_valid_sequences.shape"
      ],
      "execution_count": null,
      "outputs": [
        {
          "output_type": "execute_result",
          "data": {
            "text/plain": [
              "(686, 100)"
            ]
          },
          "metadata": {
            "tags": []
          },
          "execution_count": 80
        }
      ]
    },
    {
      "cell_type": "code",
      "metadata": {
        "colab": {
          "base_uri": "https://localhost:8080/"
        },
        "id": "iAC-zQKG3GXv",
        "outputId": "b08ce79d-7f76-4502-f6d6-e1c440331cd7"
      },
      "source": [
        "Sentence_test_sequences = tokenizer.texts_to_sequences(Sentence_test)\n",
        "padded_Sentence_test_sequences = pad_sequences(Sentence_test_sequences, maxlen=max_length, truncating='post', padding='post')\n",
        "padded_Sentence_test_sequences.shape"
      ],
      "execution_count": null,
      "outputs": [
        {
          "output_type": "execute_result",
          "data": {
            "text/plain": [
              "(693, 100)"
            ]
          },
          "metadata": {
            "tags": []
          },
          "execution_count": 81
        }
      ]
    },
    {
      "cell_type": "code",
      "metadata": {
        "id": "X9rohCvH3G7y"
      },
      "source": [
        "from tensorflow.keras.models import Sequential\n",
        "from tensorflow.keras.layers import Embedding, Bidirectional, LSTM,SpatialDropout1D, Dense, Flatten,Dropout\n",
        "\n",
        "model = Sequential()\n",
        "model.add(Embedding(vocab_size, embedding_dim, input_length=max_length))\n",
        "model.add(SpatialDropout1D(0.2))\n",
        "model.add(Bidirectional(LSTM(64, dropout=0.2, recurrent_dropout=0)))\n",
        "model.add(Flatten())\n",
        "model.add(Dense(32, activation='relu'))\n",
        "model.add(Dropout(0.2))\n",
        "model.add(Dense(7, activation='softmax'))\n",
        "model.compile(loss='categorical_crossentropy', optimizer='adam', metrics=['accuracy'])\n"
      ],
      "execution_count": null,
      "outputs": []
    },
    {
      "cell_type": "code",
      "metadata": {
        "colab": {
          "base_uri": "https://localhost:8080/"
        },
        "id": "f3C-xdNf3J35",
        "outputId": "6b5c7989-f87e-42a2-f39f-8d1d1a4e2056"
      },
      "source": [
        "model.summary()"
      ],
      "execution_count": null,
      "outputs": [
        {
          "output_type": "stream",
          "text": [
            "Model: \"sequential_7\"\n",
            "_________________________________________________________________\n",
            "Layer (type)                 Output Shape              Param #   \n",
            "=================================================================\n",
            "embedding_7 (Embedding)      (None, 100, 64)           640000    \n",
            "_________________________________________________________________\n",
            "spatial_dropout1d_7 (Spatial (None, 100, 64)           0         \n",
            "_________________________________________________________________\n",
            "bidirectional_7 (Bidirection (None, 128)               66048     \n",
            "_________________________________________________________________\n",
            "flatten_5 (Flatten)          (None, 128)               0         \n",
            "_________________________________________________________________\n",
            "dense_7 (Dense)              (None, 32)                4128      \n",
            "_________________________________________________________________\n",
            "dropout_1 (Dropout)          (None, 32)                0         \n",
            "_________________________________________________________________\n",
            "dense_8 (Dense)              (None, 7)                 231       \n",
            "=================================================================\n",
            "Total params: 710,407\n",
            "Trainable params: 710,407\n",
            "Non-trainable params: 0\n",
            "_________________________________________________________________\n"
          ],
          "name": "stdout"
        }
      ]
    },
    {
      "cell_type": "code",
      "metadata": {
        "colab": {
          "base_uri": "https://localhost:8080/"
        },
        "id": "r0ebVWdI5NUK",
        "outputId": "5f718285-f674-4e0d-93f9-f8258949a02f"
      },
      "source": [
        "model.fit(padded_Sentence_train_sequences, Emotion_train, epochs=10, batch_size=32,validation_data=(padded_Sentence_valid_sequences, Emotion_valid))"
      ],
      "execution_count": null,
      "outputs": [
        {
          "output_type": "stream",
          "text": [
            "Epoch 1/10\n",
            "174/174 [==============================] - 26s 122ms/step - loss: 1.7712 - accuracy: 0.2902 - val_loss: 1.6480 - val_accuracy: 0.3703\n",
            "Epoch 2/10\n",
            "174/174 [==============================] - 20s 116ms/step - loss: 1.4573 - accuracy: 0.4558 - val_loss: 1.4882 - val_accuracy: 0.4490\n",
            "Epoch 3/10\n",
            "174/174 [==============================] - 20s 116ms/step - loss: 1.1777 - accuracy: 0.5633 - val_loss: 1.3852 - val_accuracy: 0.4810\n",
            "Epoch 4/10\n",
            "174/174 [==============================] - 20s 116ms/step - loss: 1.0220 - accuracy: 0.6298 - val_loss: 1.3900 - val_accuracy: 0.4752\n",
            "Epoch 5/10\n",
            "174/174 [==============================] - 20s 115ms/step - loss: 0.8929 - accuracy: 0.6757 - val_loss: 1.4030 - val_accuracy: 0.5029\n",
            "Epoch 6/10\n",
            "174/174 [==============================] - 20s 116ms/step - loss: 0.7834 - accuracy: 0.7282 - val_loss: 1.4756 - val_accuracy: 0.5190\n",
            "Epoch 7/10\n",
            "174/174 [==============================] - 20s 116ms/step - loss: 0.7138 - accuracy: 0.7529 - val_loss: 1.5871 - val_accuracy: 0.4985\n",
            "Epoch 8/10\n",
            "174/174 [==============================] - 20s 116ms/step - loss: 0.6584 - accuracy: 0.7776 - val_loss: 1.6464 - val_accuracy: 0.5044\n",
            "Epoch 9/10\n",
            "174/174 [==============================] - 20s 117ms/step - loss: 0.5958 - accuracy: 0.8014 - val_loss: 1.7045 - val_accuracy: 0.4825\n",
            "Epoch 10/10\n",
            "174/174 [==============================] - 20s 117ms/step - loss: 0.5373 - accuracy: 0.8228 - val_loss: 1.7686 - val_accuracy: 0.4971\n"
          ],
          "name": "stdout"
        },
        {
          "output_type": "execute_result",
          "data": {
            "text/plain": [
              "<tensorflow.python.keras.callbacks.History at 0x7fbd31cdf390>"
            ]
          },
          "metadata": {
            "tags": []
          },
          "execution_count": 95
        }
      ]
    },
    {
      "cell_type": "code",
      "metadata": {
        "id": "QNH5yd6r5tTk"
      },
      "source": [
        "from tensorflow.keras.models import Sequential\n",
        "from tensorflow.keras.layers import Embedding, Bidirectional, LSTM,SpatialDropout1D, Dense\n",
        "\n",
        "model1 = Sequential()\n",
        "model1.add(Embedding(vocab_size, embedding_dim, input_length=max_length))\n",
        "model1.add(SpatialDropout1D(0.2))\n",
        "model1.add(Bidirectional(LSTM(32, dropout=0.2, recurrent_dropout=0)))\n",
        "model1.add(Dense(7, activation='softmax'))\n",
        "model1.compile(loss='categorical_crossentropy', optimizer='adam', metrics=['accuracy'])\n",
        "model1.summary()"
      ],
      "execution_count": null,
      "outputs": []
    },
    {
      "cell_type": "code",
      "metadata": {
        "id": "Wea4DGaR54hu"
      },
      "source": [
        "model1.fit(padded_Sentence_train_sequences, Emotion_train, epochs=10, batch_size=32,validation_data=(padded_Sentence_valid_sequences, Emotion_valid))"
      ],
      "execution_count": null,
      "outputs": []
    },
    {
      "cell_type": "code",
      "metadata": {
        "colab": {
          "base_uri": "https://localhost:8080/"
        },
        "id": "mTiF-W3P6uZ1",
        "outputId": "6a9e1344-34df-4dac-ead2-15c530ed7980"
      },
      "source": [
        "from google.colab import drive\n",
        "drive.mount('/content/drive')"
      ],
      "execution_count": null,
      "outputs": [
        {
          "output_type": "stream",
          "text": [
            "Mounted at /content/drive\n"
          ],
          "name": "stdout"
        }
      ]
    },
    {
      "cell_type": "code",
      "metadata": {
        "colab": {
          "base_uri": "https://localhost:8080/"
        },
        "id": "T2jlhEnv65EO",
        "outputId": "d59b0489-2d00-4ec2-b63a-f981f273fdcb"
      },
      "source": [
        "cd /content/drive/MyDrive/LSTM"
      ],
      "execution_count": null,
      "outputs": [
        {
          "output_type": "stream",
          "text": [
            "/content/drive/MyDrive/LSTM\n"
          ],
          "name": "stdout"
        }
      ]
    },
    {
      "cell_type": "code",
      "metadata": {
        "id": "gQc8IILj66H0"
      },
      "source": [
        "model.save(\"LSTM.h5\")"
      ],
      "execution_count": null,
      "outputs": []
    },
    {
      "cell_type": "code",
      "metadata": {
        "id": "DzVBkaGf6_w1"
      },
      "source": [
        "model1.save(\"LSTM1.h5\")"
      ],
      "execution_count": null,
      "outputs": []
    },
    {
      "cell_type": "code",
      "metadata": {
        "colab": {
          "base_uri": "https://localhost:8080/"
        },
        "id": "KAWnm3Xx6k78",
        "outputId": "05d5ba2e-db59-41ac-97b2-99714950396d"
      },
      "source": [
        "sents_pred = model.predict(padded_Sentence_test_sequences)\n",
        "sents_pred.shape"
      ],
      "execution_count": null,
      "outputs": [
        {
          "output_type": "execute_result",
          "data": {
            "text/plain": [
              "(693, 7)"
            ]
          },
          "metadata": {
            "tags": []
          },
          "execution_count": 107
        }
      ]
    },
    {
      "cell_type": "code",
      "metadata": {
        "colab": {
          "base_uri": "https://localhost:8080/"
        },
        "id": "22YXnLSv7PuR",
        "outputId": "e5e0a475-cc97-4a4e-e126-fbb0d79e980b"
      },
      "source": [
        "sents_pred = (sents_pred > 0.5)\n",
        "from sklearn.metrics import accuracy_score, f1_score, precision_score, recall_score, classification_report\n",
        "\n",
        "accuracy_score(Emotion_test,sents_pred )"
      ],
      "execution_count": null,
      "outputs": [
        {
          "output_type": "execute_result",
          "data": {
            "text/plain": [
              "0.4675324675324675"
            ]
          },
          "metadata": {
            "tags": []
          },
          "execution_count": 108
        }
      ]
    },
    {
      "cell_type": "code",
      "metadata": {
        "colab": {
          "base_uri": "https://localhost:8080/"
        },
        "id": "2XKzpqQm7XPK",
        "outputId": "184006f7-d2ea-40de-bbc8-aa9f640a3327"
      },
      "source": [
        "print(classification_report(Emotion_test,sents_pred))\n",
        "print(\"Accuracy: \\t\",accuracy_score(Emotion_test,sents_pred))\n",
        "print(\"F1-Score: \\t\",f1_score(Emotion_test,sents_pred, average=\"macro\"))\n",
        "print(\"Precision: \\t\",precision_score(Emotion_test,sents_pred, average=\"macro\"))\n",
        "print(\"Recall: \\t\",recall_score(Emotion_test,sents_pred, average=\"macro\"))"
      ],
      "execution_count": null,
      "outputs": [
        {
          "output_type": "stream",
          "text": [
            "              precision    recall  f1-score   support\n",
            "\n",
            "           0       0.50      0.25      0.33        40\n",
            "           1       0.56      0.48      0.52       132\n",
            "           2       0.61      0.60      0.60       193\n",
            "           3       0.68      0.57      0.62        46\n",
            "           4       0.35      0.37      0.36       129\n",
            "           5       0.69      0.45      0.54       116\n",
            "           6       0.56      0.24      0.34        37\n",
            "\n",
            "   micro avg       0.55      0.47      0.51       693\n",
            "   macro avg       0.57      0.42      0.47       693\n",
            "weighted avg       0.56      0.47      0.50       693\n",
            " samples avg       0.47      0.47      0.47       693\n",
            "\n",
            "Accuracy: \t 0.4675324675324675\n",
            "F1-Score: \t 0.47468144379561095\n",
            "Precision: \t 0.5665843817930308\n",
            "Recall: \t 0.42279041814294965\n"
          ],
          "name": "stdout"
        },
        {
          "output_type": "stream",
          "text": [
            "/usr/local/lib/python3.7/dist-packages/sklearn/metrics/_classification.py:1272: UndefinedMetricWarning: Precision and F-score are ill-defined and being set to 0.0 in samples with no predicted labels. Use `zero_division` parameter to control this behavior.\n",
            "  _warn_prf(average, modifier, msg_start, len(result))\n"
          ],
          "name": "stderr"
        }
      ]
    },
    {
      "cell_type": "markdown",
      "metadata": {
        "id": "khsaJx4p-gZV"
      },
      "source": [
        "#Confusion matrix"
      ]
    },
    {
      "cell_type": "code",
      "metadata": {
        "colab": {
          "base_uri": "https://localhost:8080/"
        },
        "id": "PiSpPKWD-dAR",
        "outputId": "6b7fc0b9-750a-428c-e758-6b2396d58888"
      },
      "source": [
        "from sklearn.metrics import confusion_matrix\n",
        "\n",
        "cm_nb = confusion_matrix(Emotion_test.argmax(axis=1),sents_pred.argmax(axis=1))\n",
        "cm_nb"
      ],
      "execution_count": null,
      "outputs": [
        {
          "output_type": "execute_result",
          "data": {
            "text/plain": [
              "array([[ 21,  11,   0,   3,   2,   3,   0],\n",
              "       [ 31,  68,  13,   2,   9,   8,   1],\n",
              "       [ 29,  12, 106,   3,  27,  15,   1],\n",
              "       [  9,   4,   6,  24,   2,   1,   0],\n",
              "       [ 29,  22,  22,   1,  37,  17,   1],\n",
              "       [ 15,  11,  13,   0,   9,  68,   0],\n",
              "       [  9,   6,   6,   0,   4,   2,  10]])"
            ]
          },
          "metadata": {
            "tags": []
          },
          "execution_count": 131
        }
      ]
    },
    {
      "cell_type": "code",
      "metadata": {
        "id": "VkknvQHz-j_I",
        "colab": {
          "base_uri": "https://localhost:8080/"
        },
        "outputId": "b77801e5-42a5-455e-c7f8-347318286723"
      },
      "source": [
        "set(df_train['Emotion'])"
      ],
      "execution_count": null,
      "outputs": [
        {
          "output_type": "execute_result",
          "data": {
            "text/plain": [
              "{'Anger', 'Disgust', 'Enjoyment', 'Fear', 'Other', 'Sadness', 'Surprise'}"
            ]
          },
          "metadata": {
            "tags": []
          },
          "execution_count": 132
        }
      ]
    },
    {
      "cell_type": "code",
      "metadata": {
        "id": "Vfa240r--nb9",
        "colab": {
          "base_uri": "https://localhost:8080/",
          "height": 410
        },
        "outputId": "b777f08a-b364-4be6-c1cb-6e6392f6b05a"
      },
      "source": [
        "from sklearn import preprocessing\n",
        "from sklearn.preprocessing import LabelEncoder\n",
        "le = LabelEncoder()\n",
        "from sklearn.metrics import confusion_matrix\n",
        "import seaborn as sns\n",
        "import matplotlib.pyplot as plt\n",
        "y_train = le.fit_transform(df_train[\"Emotion\"])\n",
        "\n",
        "plt.figure(figsize=(17,6))\n",
        "plt.title('Confusion Matrix: Naive Bayes', fontsize=20)\n",
        "cm_nb = confusion_matrix(Emotion_test.argmax(axis=1),sents_pred.argmax(axis=1))\n",
        "# df_cm_nb = pd.DataFrame(cm_nb, index=np.unique(le.inverse_transform(y_train)), columns=np.unique(le.inverse_transform(sents_pred)))\n",
        "df_cm_nb = pd.DataFrame(cm_nb, index=['Anger', 'Disgust', 'Enjoyment', 'Fear', 'Other', 'Sadness', 'Surprise'], columns=['Anger', 'Disgust', 'Enjoyment', 'Fear', 'Other', 'Sadness', 'Surprise'])\n",
        "sns.heatmap(df_cm_nb, annot=True, square=True, annot_kws={\"size\": 16}, fmt='2g', cmap='Greens')\n"
      ],
      "execution_count": null,
      "outputs": [
        {
          "output_type": "execute_result",
          "data": {
            "text/plain": [
              "<matplotlib.axes._subplots.AxesSubplot at 0x7fbd3b73a5d0>"
            ]
          },
          "metadata": {
            "tags": []
          },
          "execution_count": 133
        },
        {
          "output_type": "display_data",
          "data": {
            "image/png": "[encoded data removed]",
            "text/plain": [
              "<Figure size 1224x432 with 2 Axes>"
            ]
          },
          "metadata": {
            "tags": [],
            "image/png": {
              "width": 490,
              "height": 375
            },
            "needs_background": "light"
          }
        }
      ]
    }
  ]
}